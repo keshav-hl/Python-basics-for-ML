{
  "nbformat": 4,
  "nbformat_minor": 0,
  "metadata": {
    "colab": {
      "provenance": [],
      "authorship_tag": "ABX9TyPGWCpsZjzJFEt7t+DNiCk9",
      "include_colab_link": true
    },
    "kernelspec": {
      "name": "python3",
      "display_name": "Python 3"
    },
    "language_info": {
      "name": "python"
    }
  },
  "cells": [
    {
      "cell_type": "markdown",
      "metadata": {
        "id": "view-in-github",
        "colab_type": "text"
      },
      "source": [
        "<a href=\"https://colab.research.google.com/github/keshav-hl/Python-basics-for-ML/blob/main/Python_Basics_03.ipynb\" target=\"_parent\"><img src=\"https://colab.research.google.com/assets/colab-badge.svg\" alt=\"Open In Colab\"/></a>"
      ]
    },
    {
      "cell_type": "code",
      "execution_count": 1,
      "metadata": {
        "colab": {
          "base_uri": "https://localhost:8080/"
        },
        "id": "Q8dIiZcNIQAW",
        "outputId": "ecf1a9bd-3dad-457f-94a7-0ed4038b772d"
      },
      "outputs": [
        {
          "output_type": "stream",
          "name": "stdout",
          "text": [
            "10\n"
          ]
        },
        {
          "output_type": "execute_result",
          "data": {
            "text/plain": [
              "int"
            ]
          },
          "metadata": {},
          "execution_count": 1
        }
      ],
      "source": [
        "#integers values\n",
        "a = 10\n",
        "print(a)\n",
        "type(a)"
      ]
    },
    {
      "cell_type": "code",
      "source": [
        "#floting point\n",
        "b = 15.5\n",
        "print(a)\n",
        "type(a)"
      ],
      "metadata": {
        "colab": {
          "base_uri": "https://localhost:8080/"
        },
        "id": "GFrV_qJsVJeC",
        "outputId": "fd19ed64-3423-4fa1-a0e3-433afa2f52f0"
      },
      "execution_count": 2,
      "outputs": [
        {
          "output_type": "stream",
          "name": "stdout",
          "text": [
            "10\n"
          ]
        },
        {
          "output_type": "execute_result",
          "data": {
            "text/plain": [
              "int"
            ]
          },
          "metadata": {},
          "execution_count": 2
        }
      ]
    },
    {
      "cell_type": "code",
      "source": [
        "#complex numbers\n",
        "c = 1 + 3j\n",
        "print(c)\n",
        "type(c)"
      ],
      "metadata": {
        "colab": {
          "base_uri": "https://localhost:8080/"
        },
        "id": "KT5X7OdtVSpW",
        "outputId": "3d8d8b14-ad47-40c7-a93f-3b8300e85cfa"
      },
      "execution_count": 5,
      "outputs": [
        {
          "output_type": "stream",
          "name": "stdout",
          "text": [
            "(1+3j)\n"
          ]
        },
        {
          "output_type": "execute_result",
          "data": {
            "text/plain": [
              "complex"
            ]
          },
          "metadata": {},
          "execution_count": 5
        }
      ]
    },
    {
      "cell_type": "markdown",
      "source": [
        "Conversion of data types"
      ],
      "metadata": {
        "id": "y8ZjpgJiV0pn"
      }
    },
    {
      "cell_type": "code",
      "source": [
        "a = 10\n",
        "print(a)\n",
        "b = float(a)\n",
        "print(b)\n",
        "type(b)"
      ],
      "metadata": {
        "colab": {
          "base_uri": "https://localhost:8080/"
        },
        "id": "9CUCn-pMVgU2",
        "outputId": "ae14c8ea-1926-44ec-9986-ad43f18a9890"
      },
      "execution_count": 13,
      "outputs": [
        {
          "output_type": "stream",
          "name": "stdout",
          "text": [
            "10\n",
            "10.0\n"
          ]
        },
        {
          "output_type": "execute_result",
          "data": {
            "text/plain": [
              "float"
            ]
          },
          "metadata": {},
          "execution_count": 13
        }
      ]
    },
    {
      "cell_type": "code",
      "source": [
        "y = 5.66\n",
        "print(y)\n",
        "i = int(y)\n",
        "print(i)\n",
        "type(i)"
      ],
      "metadata": {
        "colab": {
          "base_uri": "https://localhost:8080/"
        },
        "id": "kM1t-d4eWC47",
        "outputId": "af907f13-030e-4395-bd14-41b7144a3f0b"
      },
      "execution_count": 14,
      "outputs": [
        {
          "output_type": "stream",
          "name": "stdout",
          "text": [
            "5.66\n",
            "5\n"
          ]
        },
        {
          "output_type": "execute_result",
          "data": {
            "text/plain": [
              "int"
            ]
          },
          "metadata": {},
          "execution_count": 14
        }
      ]
    },
    {
      "cell_type": "markdown",
      "source": [
        "Boolean\n",
        "True/\n",
        "False"
      ],
      "metadata": {
        "id": "y3TrcglQW2WC"
      }
    },
    {
      "cell_type": "code",
      "source": [
        "y = True\n",
        "print(y)"
      ],
      "metadata": {
        "id": "Mn-M8-yGXTT6",
        "outputId": "e342e618-df25-4379-eef6-642d85a58bb7",
        "colab": {
          "base_uri": "https://localhost:8080/"
        }
      },
      "execution_count": 19,
      "outputs": [
        {
          "output_type": "stream",
          "name": "stdout",
          "text": [
            "True\n"
          ]
        }
      ]
    },
    {
      "cell_type": "code",
      "source": [
        "i = False\n",
        "print(i)"
      ],
      "metadata": {
        "id": "JdmAkAwDXYJf",
        "outputId": "858f2229-381a-45ef-b8cb-e1c0f51f4bec",
        "colab": {
          "base_uri": "https://localhost:8080/"
        }
      },
      "execution_count": 20,
      "outputs": [
        {
          "output_type": "stream",
          "name": "stdout",
          "text": [
            "False\n"
          ]
        }
      ]
    },
    {
      "cell_type": "code",
      "source": [
        "i = 7 < 3\n",
        "print(i)\n",
        "type(i)"
      ],
      "metadata": {
        "id": "r2WR8n5gWzpN",
        "outputId": "6309155d-cec8-4d5e-e44f-802647b3cb3a",
        "colab": {
          "base_uri": "https://localhost:8080/"
        }
      },
      "execution_count": 17,
      "outputs": [
        {
          "output_type": "stream",
          "name": "stdout",
          "text": [
            "False\n"
          ]
        },
        {
          "output_type": "execute_result",
          "data": {
            "text/plain": [
              "bool"
            ]
          },
          "metadata": {},
          "execution_count": 17
        }
      ]
    },
    {
      "cell_type": "code",
      "source": [
        "i = 10 > 1\n",
        "print(i)\n",
        "type(i)"
      ],
      "metadata": {
        "id": "krIQYlyLXFA4",
        "outputId": "62d9dd45-f8cb-40e4-8735-c105b523d268",
        "colab": {
          "base_uri": "https://localhost:8080/"
        }
      },
      "execution_count": 18,
      "outputs": [
        {
          "output_type": "stream",
          "name": "stdout",
          "text": [
            "True\n"
          ]
        },
        {
          "output_type": "execute_result",
          "data": {
            "text/plain": [
              "bool"
            ]
          },
          "metadata": {},
          "execution_count": 18
        }
      ]
    },
    {
      "cell_type": "markdown",
      "source": [
        "String"
      ],
      "metadata": {
        "id": "V0QKgV_aXjco"
      }
    },
    {
      "cell_type": "code",
      "source": [
        "name = \"Keshav\"\n",
        "print(name)\n",
        "type(name)"
      ],
      "metadata": {
        "id": "Nq0pWN3mXK0A",
        "outputId": "0e7639e8-8652-463f-918d-9ac4af07ab93",
        "colab": {
          "base_uri": "https://localhost:8080/"
        }
      },
      "execution_count": 21,
      "outputs": [
        {
          "output_type": "stream",
          "name": "stdout",
          "text": [
            "Keshav\n"
          ]
        },
        {
          "output_type": "execute_result",
          "data": {
            "text/plain": [
              "str"
            ]
          },
          "metadata": {},
          "execution_count": 21
        }
      ]
    },
    {
      "cell_type": "code",
      "source": [
        "my_str = \"Machine Learning\"\n",
        "print(my_str)\n",
        "type(my_str)"
      ],
      "metadata": {
        "id": "ZH-1ZvWAXrBh",
        "outputId": "ef5b3ea8-b9bf-423d-b80c-b83e38b3287d",
        "colab": {
          "base_uri": "https://localhost:8080/"
        }
      },
      "execution_count": 22,
      "outputs": [
        {
          "output_type": "stream",
          "name": "stdout",
          "text": [
            "Machine Learning\n"
          ]
        },
        {
          "output_type": "execute_result",
          "data": {
            "text/plain": [
              "str"
            ]
          },
          "metadata": {},
          "execution_count": 22
        }
      ]
    },
    {
      "cell_type": "code",
      "source": [
        "name = \"Keshav \" * 5\n",
        "print(name)\n",
        "type(name)"
      ],
      "metadata": {
        "id": "24Zh1U4kX2F2",
        "outputId": "52c6ad17-3961-4530-c16b-3ebcb898f5eb",
        "colab": {
          "base_uri": "https://localhost:8080/"
        }
      },
      "execution_count": 24,
      "outputs": [
        {
          "output_type": "stream",
          "name": "stdout",
          "text": [
            "Keshav Keshav Keshav Keshav Keshav \n"
          ]
        },
        {
          "output_type": "execute_result",
          "data": {
            "text/plain": [
              "str"
            ]
          },
          "metadata": {},
          "execution_count": 24
        }
      ]
    },
    {
      "cell_type": "markdown",
      "source": [
        "Slicing"
      ],
      "metadata": {
        "id": "habDe_gCX-bW"
      }
    },
    {
      "cell_type": "code",
      "source": [
        "name = \"Keshav\"\n",
        "print(name[0:2])\n",
        "type(name)"
      ],
      "metadata": {
        "id": "0tLbGu2yX7Hr",
        "outputId": "e7a0a2f6-15cf-41db-83bb-bd4a18d0350f",
        "colab": {
          "base_uri": "https://localhost:8080/"
        }
      },
      "execution_count": 27,
      "outputs": [
        {
          "output_type": "stream",
          "name": "stdout",
          "text": [
            "Ke\n"
          ]
        },
        {
          "output_type": "execute_result",
          "data": {
            "text/plain": [
              "str"
            ]
          },
          "metadata": {},
          "execution_count": 27
        }
      ]
    },
    {
      "cell_type": "code",
      "source": [
        "name = \"Keshav\"\n",
        "print(name[2:4])"
      ],
      "metadata": {
        "id": "8LPOLhB_YFID",
        "outputId": "59f98852-7aa0-4d6a-e208-5e0e42c0e925",
        "colab": {
          "base_uri": "https://localhost:8080/"
        }
      },
      "execution_count": 26,
      "outputs": [
        {
          "output_type": "stream",
          "name": "stdout",
          "text": [
            "sh\n"
          ]
        }
      ]
    },
    {
      "cell_type": "code",
      "source": [
        "name = \"Keshav\"\n",
        "print(name[0::2])"
      ],
      "metadata": {
        "id": "ND9pyZcuYJRi",
        "outputId": "861de11e-3f9f-4108-dc84-abaa509241b0",
        "colab": {
          "base_uri": "https://localhost:8080/"
        }
      },
      "execution_count": 28,
      "outputs": [
        {
          "output_type": "stream",
          "name": "stdout",
          "text": [
            "Ksa\n"
          ]
        }
      ]
    },
    {
      "cell_type": "code",
      "source": [
        "print(name[1:6:2])"
      ],
      "metadata": {
        "id": "tqORlGNdYPkV",
        "outputId": "dac152eb-5e06-4469-d940-8f93a761beb1",
        "colab": {
          "base_uri": "https://localhost:8080/"
        }
      },
      "execution_count": 30,
      "outputs": [
        {
          "output_type": "stream",
          "name": "stdout",
          "text": [
            "ehv\n"
          ]
        }
      ]
    },
    {
      "cell_type": "markdown",
      "source": [
        "String Concatenation"
      ],
      "metadata": {
        "id": "f_8bWXhYZX8e"
      }
    },
    {
      "cell_type": "code",
      "source": [
        "str1 = \"Machine\"\n",
        "str2 = \"Learning\"\n",
        "\n",
        "string = str1 + str2\n",
        "print(string)"
      ],
      "metadata": {
        "id": "Bb_H9uLuYYRs",
        "outputId": "3d1a6420-05a4-4706-d121-8fbcf1634fb2",
        "colab": {
          "base_uri": "https://localhost:8080/"
        }
      },
      "execution_count": 32,
      "outputs": [
        {
          "output_type": "stream",
          "name": "stdout",
          "text": [
            "MachineLearning\n"
          ]
        }
      ]
    }
  ]
}